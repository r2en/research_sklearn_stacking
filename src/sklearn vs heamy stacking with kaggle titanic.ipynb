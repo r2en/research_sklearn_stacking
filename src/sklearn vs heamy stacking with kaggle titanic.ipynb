{
 "cells": [
  {
   "cell_type": "code",
   "execution_count": 531,
   "metadata": {},
   "outputs": [],
   "source": [
    "from IPython.core.interactiveshell import InteractiveShell\n",
    "InteractiveShell.ast_node_interactivity = 'all'\n",
    "\n",
    "import pandas\n",
    "pandas.set_option('display.max_rows', 1000)\n",
    "pandas.set_option('display.max_columns', 1000)\n",
    "\n",
    "%reload_ext autoreload\n",
    "%autoreload 2"
   ]
  },
  {
   "cell_type": "code",
   "execution_count": 533,
   "metadata": {},
   "outputs": [],
   "source": [
    "import re\n",
    "import numpy\n",
    "import pandas\n",
    "from sklearn.preprocessing import StandardScaler\n",
    "\n",
    "def first_dataset():\n",
    "    \n",
    "    train = pandas.read_csv('input/train.csv')\n",
    "    test = pandas.read_csv('input/test.csv')\n",
    "    \n",
    "    datasets = [train, test]\n",
    "    \n",
    "    def get_title(name):\n",
    "        if re.search(' ([A-Za-z]+)\\.', name):\n",
    "            return re.search(' ([A-Za-z]+)\\.', name).group(1)\n",
    "        return \"\"\n",
    "\n",
    "    \n",
    "    for dataset in datasets:\n",
    "\n",
    "        dataset['Cabin'] = dataset['Cabin'].apply(lambda x: 1 if type(x) == str else 0)\n",
    "        \n",
    "        dataset['Age'] = dataset['Age'].fillna(-1).astype(int)\n",
    "        \n",
    "        dataset['Fare'] = dataset['Fare'].fillna(-1).astype(int)\n",
    "\n",
    "        dataset['Sex'] = dataset['Sex'].map( {'female': 0, 'male': 1} ).astype(int)\n",
    "        \n",
    "        dataset['Title'] = dataset['Name'].apply(get_title)\n",
    "        dataset['Title'] = dataset['Title'].replace(['Lady', 'Countess','Capt', 'Col','Don', 'Dr', 'Major', 'Rev', 'Sir', 'Jonkheer', 'Dona'], 'Rare')\n",
    "        dataset['Title'] = dataset['Title'].replace('Mlle', 'Miss')\n",
    "        dataset['Title'] = dataset['Title'].replace('Ms', 'Miss')\n",
    "        dataset['Title'] = dataset['Title'].replace('Mme', 'Mrs')\n",
    "        title_mapping = {\"Mr\": 1, \"Miss\": 2, \"Mrs\": 3, \"Master\": 4, \"Rare\": 5}\n",
    "        dataset['Title'] = dataset['Title'].map(title_mapping)\n",
    "        dataset['Title'] = dataset['Title'].fillna(-1)\n",
    "\n",
    "        dataset['Embarked'] = dataset['Embarked'].fillna('S')\n",
    "        dataset['Embarked'] = dataset['Embarked'].map( {'S': 0, 'C': 1, 'Q': 2} ).astype(int)\n",
    "    \n",
    "        dataset.drop(['PassengerId', 'Ticket', 'Name'], axis=1, inplace=True)\n",
    "        \n",
    "    X_train = train.drop(['Survived'], axis=1)\n",
    "    y_train = train['Survived']\n",
    "    X_test = test\n",
    "    \n",
    "    std = StandardScaler()\n",
    "    std.fit(X_train)\n",
    "    X_train = std.transform(X_train).astype(numpy.float32)\n",
    "    X_test = std.transform(X_test).astype(numpy.float32)\n",
    "\n",
    "    return {'X_train': X_train, 'X_test': X_test, 'y_train': y_train}"
   ]
  },
  {
   "cell_type": "code",
   "execution_count": 534,
   "metadata": {
    "scrolled": false
   },
   "outputs": [],
   "source": [
    "df = first_dataset()"
   ]
  },
  {
   "cell_type": "code",
   "execution_count": 1,
   "metadata": {},
   "outputs": [],
   "source": [
    "# LightGBM Single モデル"
   ]
  },
  {
   "cell_type": "code",
   "execution_count": 535,
   "metadata": {},
   "outputs": [],
   "source": [
    "import lightgbm as lgbm\n",
    "from sklearn.model_selection import train_test_split"
   ]
  },
  {
   "cell_type": "code",
   "execution_count": 536,
   "metadata": {},
   "outputs": [],
   "source": [
    "X_train, X_valid, y_train, y_valid = train_test_split(df['X_train'], df['y_train'], test_size=0.2, random_state=0)"
   ]
  },
  {
   "cell_type": "code",
   "execution_count": 537,
   "metadata": {},
   "outputs": [],
   "source": [
    "train_dataset = lgbm.Dataset(data=X_train, label=y_train, free_raw_data=False)\n",
    "test_dataset = lgbm.Dataset(data=X_valid, label=y_valid, free_raw_data=False)\n",
    "final_train_dataset = lgbm.Dataset(data=df['X_train'], label=df['y_train'], free_raw_data=False)"
   ]
  },
  {
   "cell_type": "code",
   "execution_count": 538,
   "metadata": {},
   "outputs": [],
   "source": [
    "lgbm_params = {\n",
    "    'boosting': 'dart', \n",
    "    'application': 'binary',\n",
    "    'learning_rate': 0.05,\n",
    "    'min_data_in_leaf': 20,\n",
    "    'feature_fraction': 0.7,\n",
    "    'num_leaves': 41,\n",
    "    'metric': 'binary_logloss',\n",
    "    'drop_rate': 0.15\n",
    "}"
   ]
  },
  {
   "cell_type": "code",
   "execution_count": 539,
   "metadata": {},
   "outputs": [
    {
     "name": "stderr",
     "output_type": "stream",
     "text": [
      "/usr/local/lib/python3.7/dist-packages/lightgbm/callback.py:188: UserWarning: Early stopping is not available in dart mode\n",
      "  warnings.warn('Early stopping is not available in dart mode')\n"
     ]
    },
    {
     "name": "stdout",
     "output_type": "stream",
     "text": [
      "[20]\tTrain's binary_logloss: 0.464484\tTest's binary_logloss: 0.487243\n",
      "[40]\tTrain's binary_logloss: 0.408891\tTest's binary_logloss: 0.446751\n",
      "[60]\tTrain's binary_logloss: 0.393729\tTest's binary_logloss: 0.442872\n",
      "[80]\tTrain's binary_logloss: 0.378047\tTest's binary_logloss: 0.436778\n",
      "[100]\tTrain's binary_logloss: 0.37472\tTest's binary_logloss: 0.436104\n",
      "[120]\tTrain's binary_logloss: 0.365463\tTest's binary_logloss: 0.432786\n",
      "[140]\tTrain's binary_logloss: 0.35433\tTest's binary_logloss: 0.424344\n",
      "[160]\tTrain's binary_logloss: 0.35888\tTest's binary_logloss: 0.426459\n",
      "[180]\tTrain's binary_logloss: 0.337339\tTest's binary_logloss: 0.416787\n",
      "[200]\tTrain's binary_logloss: 0.324049\tTest's binary_logloss: 0.413225\n",
      "[220]\tTrain's binary_logloss: 0.317539\tTest's binary_logloss: 0.415004\n",
      "[240]\tTrain's binary_logloss: 0.308851\tTest's binary_logloss: 0.415523\n",
      "[260]\tTrain's binary_logloss: 0.302299\tTest's binary_logloss: 0.416495\n",
      "[280]\tTrain's binary_logloss: 0.2962\tTest's binary_logloss: 0.41336\n",
      "[300]\tTrain's binary_logloss: 0.29189\tTest's binary_logloss: 0.411006\n",
      "[320]\tTrain's binary_logloss: 0.287122\tTest's binary_logloss: 0.409593\n",
      "[340]\tTrain's binary_logloss: 0.285989\tTest's binary_logloss: 0.409112\n",
      "[360]\tTrain's binary_logloss: 0.289834\tTest's binary_logloss: 0.408724\n",
      "[380]\tTrain's binary_logloss: 0.285252\tTest's binary_logloss: 0.410179\n",
      "[400]\tTrain's binary_logloss: 0.280402\tTest's binary_logloss: 0.412111\n",
      "[420]\tTrain's binary_logloss: 0.277603\tTest's binary_logloss: 0.412522\n",
      "[440]\tTrain's binary_logloss: 0.271024\tTest's binary_logloss: 0.413539\n",
      "[460]\tTrain's binary_logloss: 0.267041\tTest's binary_logloss: 0.412336\n",
      "[480]\tTrain's binary_logloss: 0.256236\tTest's binary_logloss: 0.411442\n",
      "[500]\tTrain's binary_logloss: 0.256264\tTest's binary_logloss: 0.411502\n"
     ]
    }
   ],
   "source": [
    "evaluation_results = {}\n",
    "clf = lgbm.train(train_set=train_dataset,\n",
    "                 params=lgbm_params,\n",
    "                 valid_sets=[train_dataset, test_dataset], \n",
    "                 valid_names=['Train', 'Test'],\n",
    "                 evals_result=evaluation_results,\n",
    "                 num_boost_round=500,\n",
    "                 early_stopping_rounds=100,\n",
    "                 verbose_eval=20\n",
    "                )"
   ]
  },
  {
   "cell_type": "code",
   "execution_count": 540,
   "metadata": {},
   "outputs": [
    {
     "data": {
      "image/png": "[encoded data removed]",
      "text/plain": [
       "<Figure size 1080x288 with 2 Axes>"
      ]
     },
     "metadata": {
      "needs_background": "light"
     },
     "output_type": "display_data"
    }
   ],
   "source": [
    "import numpy\n",
    "import matplotlib.pyplot as plt\n",
    "%matplotlib inline\n",
    "\n",
    "fig, axs = plt.subplots(1, 2, figsize=[15, 4])\n",
    "\n",
    "axs[0].plot(evaluation_results['Train']['binary_logloss'], label='Train');\n",
    "axs[0].plot(evaluation_results['Test']['binary_logloss'], label='Test');\n",
    "axs[0].set_ylabel('Log loss');\n",
    "axs[0].set_xlabel('Boosting round');\n",
    "axs[0].set_title('Training performance');\n",
    "axs[0].legend();\n",
    "\n",
    "importances = pandas.DataFrame({'features': clf.feature_name(), \n",
    "                            'importance': clf.feature_importance()}).sort_values('importance', ascending=False);\n",
    "axs[1].bar(x=numpy.arange(len(importances)), height=importances['importance']);\n",
    "axs[1].set_xticks(numpy.arange(len(importances)));\n",
    "axs[1].set_xticklabels(importances['features']);\n",
    "axs[1].set_ylabel('Feature importance (# times used to split)');\n",
    "axs[1].set_title('Feature importance');"
   ]
  },
  {
   "cell_type": "code",
   "execution_count": 541,
   "metadata": {},
   "outputs": [
    {
     "name": "stdout",
     "output_type": "stream",
     "text": [
      "Accuracy score = \t 0.8603351955307262\n",
      "Precision score = \t 0.8793103448275862\n",
      "Recall score =   \t 0.7391304347826086\n",
      "F1 score =      \t 0.8031496062992126\n"
     ]
    }
   ],
   "source": [
    "from sklearn.metrics import accuracy_score, recall_score, precision_score, f1_score\n",
    "\n",
    "preds = numpy.round(clf.predict(X_valid))\n",
    "print(f'Accuracy score = \\t {accuracy_score(y_valid, preds)}')\n",
    "print(f'Precision score = \\t {precision_score(y_valid, preds)}')\n",
    "print(f'Recall score =   \\t {recall_score(y_valid, preds)}')\n",
    "print(f'F1 score =      \\t {f1_score(y_valid, preds)}')"
   ]
  },
  {
   "cell_type": "code",
   "execution_count": 542,
   "metadata": {},
   "outputs": [],
   "source": [
    "clf_final = lgbm.train(train_set=final_train_dataset,\n",
    "                      params=lgbm_params,\n",
    "                      num_boost_round=500,\n",
    "                      verbose_eval=0\n",
    "                      )\n",
    "\n",
    "y_pred = numpy.round(clf_final.predict(df['X_test'])).astype(int)"
   ]
  },
  {
   "cell_type": "code",
   "execution_count": 543,
   "metadata": {},
   "outputs": [],
   "source": [
    "passengerId = pandas.read_csv('test.csv')['PassengerId']\n",
    "dataframe = pandas.DataFrame({'PassengerId': passengerId, 'Survived': y_pred})"
   ]
  },
  {
   "cell_type": "code",
   "execution_count": 544,
   "metadata": {},
   "outputs": [],
   "source": [
    "dataframe.to_csv('submission/single_lgbm_model.csv', index=False)"
   ]
  },
  {
   "cell_type": "markdown",
   "metadata": {},
   "source": [
    "# heamy"
   ]
  },
  {
   "cell_type": "code",
   "execution_count": 545,
   "metadata": {},
   "outputs": [],
   "source": [
    "#!pip install rgf_python\n",
    "#!pip install keras\n",
    "#!pip install tensorflow"
   ]
  },
  {
   "cell_type": "code",
   "execution_count": 546,
   "metadata": {},
   "outputs": [],
   "source": [
    "from heamy.dataset import Dataset\n",
    "from heamy.estimator import Regressor, Classifier\n",
    "from heamy.pipeline import ModelsPipeline"
   ]
  },
  {
   "cell_type": "code",
   "execution_count": 547,
   "metadata": {},
   "outputs": [],
   "source": [
    "from rgf.sklearn import RGFClassifier\n",
    "from sklearn.neighbors import KNeighborsClassifier\n",
    "from sklearn.linear_model import LogisticRegression\n",
    "from sklearn.ensemble import RandomForestClassifier, ExtraTreesClassifier"
   ]
  },
  {
   "cell_type": "code",
   "execution_count": 548,
   "metadata": {},
   "outputs": [],
   "source": [
    "ds = Dataset(preprocessor=first_dataset, use_cache=False)"
   ]
  },
  {
   "cell_type": "code",
   "execution_count": 549,
   "metadata": {},
   "outputs": [],
   "source": [
    "et_params = {'n_estimators': 100, 'max_features': 0.5, 'max_depth': 18, 'min_samples_leaf': 4, 'n_jobs': -1}\n",
    "rf_params = {'n_estimators': 125, 'max_features': 0.2, 'max_depth': 25, 'min_samples_leaf': 4, 'n_jobs': -1}\n",
    "rgf_params = {'algorithm': 'RGF_Sib', 'loss': 'Log'}"
   ]
  },
  {
   "cell_type": "code",
   "execution_count": 550,
   "metadata": {},
   "outputs": [],
   "source": [
    "from keras.layers import Dense\n",
    "from keras.models import Sequential\n",
    "\n",
    "def NuralNetClassifier(X_train, y_train, X_test, y_test=None):\n",
    "    input_dim = X_train.shape[1]\n",
    "    \n",
    "    model = Sequential()\n",
    "    model.add(Dense(12, input_dim=input_dim, activation='relu'))\n",
    "    model.add(Dense(6, activation='relu'))\n",
    "    model.add(Dense(1, activation='sigmoid'))\n",
    "    model.compile(loss='binary_crossentropy', optimizer='adam', metrics=['accuracy'])\n",
    "    model.fit(X_train, y_train, epochs=30, batch_size=10, verbose=0)\n",
    "    y_pred = numpy.ravel(model.predict(X_test))\n",
    "    \n",
    "    return y_pred"
   ]
  },
  {
   "cell_type": "code",
   "execution_count": 551,
   "metadata": {},
   "outputs": [],
   "source": [
    "def LightGBMClassifier(X_train, y_train, X_test, y_test=None):\n",
    "    lgbm_params = {\n",
    "        'boosting': 'dart', \n",
    "        'application': 'binary',\n",
    "        'learning_rate': 0.05,\n",
    "        'min_data_in_leaf': 20,\n",
    "        'feature_fraction': 0.7,\n",
    "        'num_leaves': 41,\n",
    "        'metric': 'binary_logloss',\n",
    "        'drop_rate': 0.15\n",
    "    }\n",
    "    X_train, X_valid, y_train, y_valid = train_test_split(X_train, y_train, test_size=0.2, random_state=0)\n",
    "    train_dataset = lgbm.Dataset(data=X_train, label=y_train, free_raw_data=False)\n",
    "    test_dataset = lgbm.Dataset(data=X_valid, label=y_valid, free_raw_data=False)\n",
    "    final_train_dataset = lgbm.Dataset(data=X_train, label=y_train, free_raw_data=False)\n",
    "    evaluation_results = {}\n",
    "    clf = lgbm.train(train_set=train_dataset,\n",
    "                     params=lgbm_params,\n",
    "                     valid_sets=[train_dataset, test_dataset], \n",
    "                     valid_names=['Train', 'Test'],\n",
    "                     evals_result=evaluation_results,\n",
    "                     num_boost_round=500,\n",
    "                     early_stopping_rounds=100,\n",
    "                     verbose_eval=0\n",
    "                    )\n",
    "    \n",
    "    clf_final = lgbm.train(train_set=final_train_dataset,\n",
    "                          params=lgbm_params,\n",
    "                          num_boost_round=500,\n",
    "                          verbose_eval=0\n",
    "                          )\n",
    "\n",
    "    y_pred = clf_final.predict(X_test)\n",
    "\n",
    "    return y_pred"
   ]
  },
  {
   "cell_type": "code",
   "execution_count": 552,
   "metadata": {},
   "outputs": [],
   "source": [
    "pipeline = ModelsPipeline(\n",
    "    Classifier(estimator=LightGBMClassifier, dataset=ds, use_cache=False),\n",
    "    Classifier(estimator=NuralNetClassifier, dataset=ds, use_cache=False),\n",
    "    Classifier(estimator=RGFClassifier, dataset=ds, use_cache=False, parameters=rgf_params),\n",
    "    Classifier(estimator=ExtraTreesClassifier, dataset=ds, use_cache=False, parameters=et_params),\n",
    "    Classifier(estimator=RandomForestClassifier, dataset=ds, use_cache=False, parameters=rf_params),\n",
    "    Classifier(estimator=LogisticRegression, dataset=ds, use_cache=False),\n",
    "    Classifier(estimator=KNeighborsClassifier, dataset=ds, use_cache=False)\n",
    ")"
   ]
  },
  {
   "cell_type": "code",
   "execution_count": 559,
   "metadata": {},
   "outputs": [],
   "source": [
    "#pipeline = ModelsPipeline(\n",
    "    #Classifier(estimator=LightGBMClassifier, dataset=ds, use_cache=False),\n",
    "    #Classifier(estimator=NuralNetClassifier, dataset=ds, use_cache=False),\n",
    "    #Classifier(estimator=RGFClassifier, dataset=ds, use_cache=False, parameters=rgf_params),\n",
    "    #Classifier(estimator=ExtraTreesClassifier, dataset=ds, use_cache=False, parameters=et_params),\n",
    "    #Classifier(estimator=RandomForestClassifier, dataset=ds, use_cache=False, parameters=rf_params),\n",
    "    #Classifier(estimator=LogisticRegression, dataset=ds, use_cache=False),\n",
    "    #Classifier(estimator=KNeighborsClassifier, dataset=ds, use_cache=False)\n",
    "#)"
   ]
  },
  {
   "cell_type": "code",
   "execution_count": 553,
   "metadata": {},
   "outputs": [
    {
     "name": "stderr",
     "output_type": "stream",
     "text": [
      "/usr/local/lib/python3.7/dist-packages/lightgbm/callback.py:188: UserWarning: Early stopping is not available in dart mode\n",
      "  warnings.warn('Early stopping is not available in dart mode')\n"
     ]
    }
   ],
   "source": [
    "stack_ds = pipeline.stack(k=10, seed=0, add_diff=False, full_test=True)"
   ]
  },
  {
   "cell_type": "markdown",
   "metadata": {},
   "source": [
    "# heamy single stacking"
   ]
  },
  {
   "cell_type": "code",
   "execution_count": 522,
   "metadata": {},
   "outputs": [],
   "source": [
    "stacker = Classifier(dataset=stack_ds, estimator=LogisticRegression, use_cache=False)"
   ]
  },
  {
   "cell_type": "code",
   "execution_count": 523,
   "metadata": {},
   "outputs": [],
   "source": [
    "y_trues, y_preds = stacker.validate(k=3)"
   ]
  },
  {
   "cell_type": "code",
   "execution_count": 524,
   "metadata": {},
   "outputs": [],
   "source": [
    "y_pred = stacker.predict()"
   ]
  },
  {
   "cell_type": "code",
   "execution_count": 525,
   "metadata": {},
   "outputs": [
    {
     "data": {
      "text/html": [
       "<div>\n",
       "<style scoped>\n",
       "    .dataframe tbody tr th:only-of-type {\n",
       "        vertical-align: middle;\n",
       "    }\n",
       "\n",
       "    .dataframe tbody tr th {\n",
       "        vertical-align: top;\n",
       "    }\n",
       "\n",
       "    .dataframe thead th {\n",
       "        text-align: right;\n",
       "    }\n",
       "</style>\n",
       "<table border=\"1\" class=\"dataframe\">\n",
       "  <thead>\n",
       "    <tr style=\"text-align: right;\">\n",
       "      <th></th>\n",
       "      <th>PassengerId</th>\n",
       "      <th>Survived</th>\n",
       "    </tr>\n",
       "  </thead>\n",
       "  <tbody>\n",
       "    <tr>\n",
       "      <th>0</th>\n",
       "      <td>892</td>\n",
       "      <td>0</td>\n",
       "    </tr>\n",
       "    <tr>\n",
       "      <th>1</th>\n",
       "      <td>893</td>\n",
       "      <td>0</td>\n",
       "    </tr>\n",
       "    <tr>\n",
       "      <th>2</th>\n",
       "      <td>894</td>\n",
       "      <td>0</td>\n",
       "    </tr>\n",
       "    <tr>\n",
       "      <th>3</th>\n",
       "      <td>895</td>\n",
       "      <td>0</td>\n",
       "    </tr>\n",
       "    <tr>\n",
       "      <th>4</th>\n",
       "      <td>896</td>\n",
       "      <td>1</td>\n",
       "    </tr>\n",
       "    <tr>\n",
       "      <th>5</th>\n",
       "      <td>897</td>\n",
       "      <td>0</td>\n",
       "    </tr>\n",
       "    <tr>\n",
       "      <th>6</th>\n",
       "      <td>898</td>\n",
       "      <td>0</td>\n",
       "    </tr>\n",
       "    <tr>\n",
       "      <th>7</th>\n",
       "      <td>899</td>\n",
       "      <td>0</td>\n",
       "    </tr>\n",
       "    <tr>\n",
       "      <th>8</th>\n",
       "      <td>900</td>\n",
       "      <td>1</td>\n",
       "    </tr>\n",
       "    <tr>\n",
       "      <th>9</th>\n",
       "      <td>901</td>\n",
       "      <td>0</td>\n",
       "    </tr>\n",
       "  </tbody>\n",
       "</table>\n",
       "</div>"
      ],
      "text/plain": [
       "   PassengerId  Survived\n",
       "0          892         0\n",
       "1          893         0\n",
       "2          894         0\n",
       "3          895         0\n",
       "4          896         1\n",
       "5          897         0\n",
       "6          898         0\n",
       "7          899         0\n",
       "8          900         1\n",
       "9          901         0"
      ]
     },
     "execution_count": 525,
     "metadata": {},
     "output_type": "execute_result"
    }
   ],
   "source": [
    "dataframe = pandas.DataFrame({'PassengerId': pandas.read_csv('input/test.csv')['PassengerId'], 'Survived': numpy.round(y_pred).astype(int)})\n",
    "\n",
    "dataframe.head(10)\n",
    "\n",
    "dataframe.to_csv('submission/heamy_single_stacking_model.csv', index=False)"
   ]
  },
  {
   "cell_type": "markdown",
   "metadata": {},
   "source": [
    "# heamy multiple stacking"
   ]
  },
  {
   "cell_type": "code",
   "execution_count": 526,
   "metadata": {},
   "outputs": [],
   "source": [
    "from sklearn.metrics import log_loss"
   ]
  },
  {
   "cell_type": "code",
   "execution_count": 558,
   "metadata": {},
   "outputs": [],
   "source": [
    "#pipeline2 = ModelsPipeline(\n",
    "#    Classifier(estimator=LightGBMClassifier, dataset=stack_ds, use_cache=False),\n",
    "#    Classifier(estimator=LogisticRegression, dataset=stack_ds, use_cache=False)\n",
    "#    #Classifier(estimator=NuralNetClassifier, dataset=stack_ds, use_cache=False)\n",
    "#)"
   ]
  },
  {
   "cell_type": "code",
   "execution_count": 527,
   "metadata": {},
   "outputs": [],
   "source": [
    "pipeline2 = ModelsPipeline(\n",
    "    Classifier(estimator=LightGBMClassifier, dataset=stack_ds, use_cache=False),\n",
    "    #Classifier(estimator=LogisticRegression, dataset=stack_ds, use_cache=False)\n",
    "    Classifier(estimator=NuralNetClassifier, dataset=stack_ds, use_cache=False)\n",
    ")"
   ]
  },
  {
   "cell_type": "code",
   "execution_count": 528,
   "metadata": {},
   "outputs": [
    {
     "name": "stderr",
     "output_type": "stream",
     "text": [
      "/usr/local/lib/python3.7/dist-packages/lightgbm/callback.py:188: UserWarning: Early stopping is not available in dart mode\n",
      "  warnings.warn('Early stopping is not available in dart mode')\n"
     ]
    },
    {
     "name": "stdout",
     "output_type": "stream",
     "text": [
      "Best Score (log_loss): 0.3849248890947457\n",
      "Best Weights: [0.50000511 0.49999489]\n"
     ]
    },
    {
     "name": "stderr",
     "output_type": "stream",
     "text": [
      "/usr/local/lib/python3.7/dist-packages/lightgbm/callback.py:188: UserWarning: Early stopping is not available in dart mode\n",
      "  warnings.warn('Early stopping is not available in dart mode')\n"
     ]
    }
   ],
   "source": [
    "weights = pipeline2.find_weights(log_loss)\n",
    "predictions = pipeline2.weight(weights).execute()"
   ]
  },
  {
   "cell_type": "code",
   "execution_count": 556,
   "metadata": {},
   "outputs": [],
   "source": [
    "#dataframe = pandas.read_csv('each_model_prediction.csv')"
   ]
  },
  {
   "cell_type": "code",
   "execution_count": 557,
   "metadata": {},
   "outputs": [],
   "source": [
    "#round_binary = lambda x: numpy.round(x).astype(int)\n",
    "#\n",
    "#dataframe.rename(columns={\n",
    "#    'LightGBMClassifier(b1759c5d030ac4ad5e9c9d02dc6e6851)': 'lgb',\n",
    "#    'NuralNetClassifier(4a02424325deb2217315ba47aec9f02d)': 'nn',\n",
    "#    'RGFClassifier(1b94dd02b592fd853c50cc5031846802)': 'rgf',\n",
    "#    'ExtraTreesClassifier(6653206da804c138e0348e61712fbd18)': 'et',\n",
    "#    'RandomForestClassifier(0d36563123af8761ca6ec7ef2527dae9)': 'rf',\n",
    "#    'LogisticRegression(81205c7ce49ef3d79e25ecf831b1a6ca)': 'lr',\n",
    "#    'KNeighborsClassifier(f6951d8b5e8e63e97d77bccf18cc41bc)': 'knn'\n",
    "#}).applymap(round_binary)"
   ]
  },
  {
   "cell_type": "code",
   "execution_count": 529,
   "metadata": {},
   "outputs": [],
   "source": [
    "dataframe = pandas.DataFrame({'PassengerId': pandas.read_csv('input/test.csv')['PassengerId'], 'Survived': numpy.round(predictions).astype(int)})\n",
    "dataframe.to_csv('submission/heamy_multiple_stacking_model.csv', index=False)"
   ]
  },
  {
   "cell_type": "code",
   "execution_count": 530,
   "metadata": {},
   "outputs": [
    {
     "data": {
      "text/html": [
       "<div>\n",
       "<style scoped>\n",
       "    .dataframe tbody tr th:only-of-type {\n",
       "        vertical-align: middle;\n",
       "    }\n",
       "\n",
       "    .dataframe tbody tr th {\n",
       "        vertical-align: top;\n",
       "    }\n",
       "\n",
       "    .dataframe thead th {\n",
       "        text-align: right;\n",
       "    }\n",
       "</style>\n",
       "<table border=\"1\" class=\"dataframe\">\n",
       "  <thead>\n",
       "    <tr style=\"text-align: right;\">\n",
       "      <th></th>\n",
       "      <th>PassengerId</th>\n",
       "      <th>Survived</th>\n",
       "    </tr>\n",
       "  </thead>\n",
       "  <tbody>\n",
       "    <tr>\n",
       "      <th>0</th>\n",
       "      <td>892</td>\n",
       "      <td>0</td>\n",
       "    </tr>\n",
       "    <tr>\n",
       "      <th>1</th>\n",
       "      <td>893</td>\n",
       "      <td>0</td>\n",
       "    </tr>\n",
       "    <tr>\n",
       "      <th>2</th>\n",
       "      <td>894</td>\n",
       "      <td>0</td>\n",
       "    </tr>\n",
       "    <tr>\n",
       "      <th>3</th>\n",
       "      <td>895</td>\n",
       "      <td>0</td>\n",
       "    </tr>\n",
       "    <tr>\n",
       "      <th>4</th>\n",
       "      <td>896</td>\n",
       "      <td>0</td>\n",
       "    </tr>\n",
       "    <tr>\n",
       "      <th>5</th>\n",
       "      <td>897</td>\n",
       "      <td>0</td>\n",
       "    </tr>\n",
       "    <tr>\n",
       "      <th>6</th>\n",
       "      <td>898</td>\n",
       "      <td>0</td>\n",
       "    </tr>\n",
       "    <tr>\n",
       "      <th>7</th>\n",
       "      <td>899</td>\n",
       "      <td>0</td>\n",
       "    </tr>\n",
       "    <tr>\n",
       "      <th>8</th>\n",
       "      <td>900</td>\n",
       "      <td>1</td>\n",
       "    </tr>\n",
       "    <tr>\n",
       "      <th>9</th>\n",
       "      <td>901</td>\n",
       "      <td>0</td>\n",
       "    </tr>\n",
       "  </tbody>\n",
       "</table>\n",
       "</div>"
      ],
      "text/plain": [
       "   PassengerId  Survived\n",
       "0          892         0\n",
       "1          893         0\n",
       "2          894         0\n",
       "3          895         0\n",
       "4          896         0\n",
       "5          897         0\n",
       "6          898         0\n",
       "7          899         0\n",
       "8          900         1\n",
       "9          901         0"
      ]
     },
     "execution_count": 530,
     "metadata": {},
     "output_type": "execute_result"
    }
   ],
   "source": [
    "dataframe.head(10)"
   ]
  },
  {
   "cell_type": "markdown",
   "metadata": {},
   "source": [
    "# sklearn single stacking"
   ]
  },
  {
   "cell_type": "code",
   "execution_count": 498,
   "metadata": {},
   "outputs": [],
   "source": [
    "from sklearn.ensemble import StackingClassifier\n",
    "from keras.wrappers.scikit_learn import KerasClassifier"
   ]
  },
  {
   "cell_type": "code",
   "execution_count": 499,
   "metadata": {},
   "outputs": [],
   "source": [
    "lgbm_params = {\n",
    "        'boosting': 'dart', \n",
    "        'application': 'binary',\n",
    "        'learning_rate': 0.05,\n",
    "        'min_data_in_leaf': 20,\n",
    "        'feature_fraction': 0.7,\n",
    "        'num_leaves': 41,\n",
    "        'metric': 'binary_logloss',\n",
    "        'drop_rate': 0.15\n",
    "}\n",
    "keras_params = {'epochs': 10, 'batch_size': 10}"
   ]
  },
  {
   "cell_type": "code",
   "execution_count": 555,
   "metadata": {},
   "outputs": [],
   "source": [
    "#def build_fn():\n",
    "#    clf = Sequential()\n",
    "#    clf.add(Dense(12, input_dim=9, activation='relu'))\n",
    "#    clf.add(Dense(6, activation='relu'))\n",
    "#    clf.add(Dense(1, activation='sigmoid'))\n",
    "#    clf.compile(loss='binary_crossentropy', optimizer='adam', metrics=['accuracy'])\n",
    "#    return clf"
   ]
  },
  {
   "cell_type": "code",
   "execution_count": 500,
   "metadata": {},
   "outputs": [],
   "source": [
    "estimators = [\n",
    "    ('lgb', lgbm.LGBMClassifier(**lgbm_params)),\n",
    "    #('nn', KerasClassifier(build_fn=build_fn, **keras_params)),\n",
    "    ('rgf', RGFClassifier(**rgf_params)),\n",
    "    ('et', ExtraTreesClassifier(**et_params)),\n",
    "    ('rf', RandomForestClassifier(**rf_params)),\n",
    "    ('lr', LogisticRegression()),\n",
    "    ('knn', KNeighborsClassifier())\n",
    "]"
   ]
  },
  {
   "cell_type": "code",
   "execution_count": 554,
   "metadata": {},
   "outputs": [],
   "source": [
    "#python3.7/dist-packages/sklearn/ensemble/_base.py in _validate_estimators(self)\n",
    "#    249                 raise ValueError(\n",
    "#    250                     \"The estimator {} should be a {}.\".format(\n",
    "#--> 251                         est.__class__.__name__, is_estimator_type.__name__[3:]\n",
    "#    252                     )\n",
    "#    253                 )\n",
    "#\n",
    "#ValueError: The estimator NuralNetworkClassifier should be a classifier."
   ]
  },
  {
   "cell_type": "code",
   "execution_count": 502,
   "metadata": {},
   "outputs": [],
   "source": [
    "clf = StackingClassifier(estimators=estimators, final_estimator=LogisticRegression())"
   ]
  },
  {
   "cell_type": "code",
   "execution_count": 503,
   "metadata": {},
   "outputs": [
    {
     "data": {
      "text/plain": [
       "StackingClassifier(cv=None,\n",
       "                   estimators=[('lgb',\n",
       "                                LGBMClassifier(application='binary',\n",
       "                                               boosting='dart',\n",
       "                                               boosting_type='gbdt',\n",
       "                                               class_weight=None,\n",
       "                                               colsample_bytree=1.0,\n",
       "                                               drop_rate=0.15,\n",
       "                                               feature_fraction=0.7,\n",
       "                                               importance_type='split',\n",
       "                                               learning_rate=0.05, max_depth=-1,\n",
       "                                               metric='binary_logloss',\n",
       "                                               min_child_samples=20,\n",
       "                                               min_child_weight=0.001,\n",
       "                                               min_data_in_leaf=20,\n",
       "                                               min_split_ga...\n",
       "                                                     n_jobs=None, n_neighbors=5,\n",
       "                                                     p=2, weights='uniform'))],\n",
       "                   final_estimator=LogisticRegression(C=1.0, class_weight=None,\n",
       "                                                      dual=False,\n",
       "                                                      fit_intercept=True,\n",
       "                                                      intercept_scaling=1,\n",
       "                                                      l1_ratio=None,\n",
       "                                                      max_iter=100,\n",
       "                                                      multi_class='auto',\n",
       "                                                      n_jobs=None, penalty='l2',\n",
       "                                                      random_state=None,\n",
       "                                                      solver='lbfgs',\n",
       "                                                      tol=0.0001, verbose=0,\n",
       "                                                      warm_start=False),\n",
       "                   n_jobs=None, passthrough=False, stack_method='auto',\n",
       "                   verbose=0)"
      ]
     },
     "execution_count": 503,
     "metadata": {},
     "output_type": "execute_result"
    }
   ],
   "source": [
    "clf.fit(df['X_train'], df['y_train'])"
   ]
  },
  {
   "cell_type": "code",
   "execution_count": 504,
   "metadata": {},
   "outputs": [],
   "source": [
    "predictions = clf.predict(df['X_test'])"
   ]
  },
  {
   "cell_type": "code",
   "execution_count": 505,
   "metadata": {},
   "outputs": [
    {
     "data": {
      "text/plain": [
       "array([0, 0, 0, 0, 1, 0, 0, 0, 1, 0, 0, 0, 1, 0, 1, 1, 0, 0, 1, 1, 0, 1,\n",
       "       1, 0, 1, 0, 1, 0, 0, 0, 0, 0, 1, 1, 1, 0, 0, 0, 0, 0, 0, 0, 0, 1,\n",
       "       1, 0, 0, 0, 1, 1, 0, 0, 1, 1, 0, 0, 0, 0, 0, 1, 0, 0, 0, 1, 1, 1,\n",
       "       1, 0, 1, 1, 1, 0, 0, 1, 1, 1, 0, 1, 0, 1, 1, 0, 0, 0, 0, 0, 1, 0,\n",
       "       1, 1, 0, 0, 1, 0, 0, 0, 1, 0, 1, 0, 1, 0, 0, 0, 1, 0, 0, 0, 0, 0,\n",
       "       0, 1, 1, 1, 1, 0, 0, 1, 1, 1, 1, 0, 1, 0, 0, 1, 0, 1, 0, 0, 0, 1,\n",
       "       0, 0, 0, 0, 0, 0, 0, 0, 0, 1, 0, 0, 0, 0, 0, 0, 0, 0, 1, 0, 0, 1,\n",
       "       0, 0, 1, 1, 1, 1, 1, 1, 1, 0, 0, 0, 0, 0, 1, 0, 0, 0, 0, 0, 0, 1,\n",
       "       1, 0, 1, 1, 0, 0, 1, 0, 1, 0, 1, 0, 0, 0, 0, 0, 1, 0, 1, 0, 1, 1,\n",
       "       0, 0, 1, 1, 1, 1, 0, 0, 0, 0, 1, 0, 0, 0, 0, 1, 0, 0, 1, 0, 1, 0,\n",
       "       1, 0, 1, 0, 1, 1, 0, 1, 0, 0, 0, 1, 0, 0, 1, 0, 0, 0, 1, 1, 1, 1,\n",
       "       0, 0, 1, 0, 1, 0, 1, 1, 1, 0, 1, 0, 0, 0, 0, 0, 1, 0, 0, 0, 1, 1,\n",
       "       0, 0, 0, 0, 0, 0, 0, 0, 1, 1, 0, 1, 0, 0, 0, 0, 0, 1, 1, 1, 1, 0,\n",
       "       0, 0, 0, 0, 0, 0, 0, 1, 0, 0, 1, 0, 0, 0, 0, 0, 0, 0, 1, 1, 0, 1,\n",
       "       0, 0, 0, 0, 0, 0, 1, 1, 0, 0, 0, 0, 0, 0, 0, 1, 1, 0, 1, 0, 0, 0,\n",
       "       1, 0, 0, 1, 0, 1, 0, 0, 0, 1, 0, 0, 0, 1, 1, 1, 0, 1, 0, 1, 1, 0,\n",
       "       0, 0, 1, 0, 1, 0, 0, 0, 0, 1, 1, 0, 1, 0, 0, 0, 1, 0, 0, 1, 0, 0,\n",
       "       1, 1, 0, 0, 0, 0, 0, 0, 1, 1, 0, 1, 0, 0, 0, 0, 0, 1, 1, 0, 0, 1,\n",
       "       0, 1, 0, 0, 1, 0, 1, 0, 0, 0, 0, 0, 1, 1, 1, 1, 0, 0, 1, 0, 0, 1])"
      ]
     },
     "execution_count": 505,
     "metadata": {},
     "output_type": "execute_result"
    }
   ],
   "source": [
    "predictions"
   ]
  },
  {
   "cell_type": "code",
   "execution_count": 506,
   "metadata": {},
   "outputs": [],
   "source": [
    "dataframe = pandas.DataFrame({'PassengerId': pandas.read_csv('input/test.csv')['PassengerId'], 'Survived': numpy.round(predictions).astype(int)})\n",
    "dataframe.to_csv('submission/sklearn_single_stacking_model.csv', index=False)"
   ]
  },
  {
   "cell_type": "markdown",
   "metadata": {},
   "source": [
    "# sklearn multiple stacking"
   ]
  },
  {
   "cell_type": "code",
   "execution_count": 507,
   "metadata": {},
   "outputs": [],
   "source": [
    "final_estimator = StackingClassifier(\n",
    "    estimators= [\n",
    "        ('lgb', lgbm.LGBMClassifier(**lgbm_params)),\n",
    "        ('lr', LogisticRegression())\n",
    "    ],\n",
    "    final_estimator=LogisticRegression()\n",
    ")"
   ]
  },
  {
   "cell_type": "code",
   "execution_count": 508,
   "metadata": {},
   "outputs": [],
   "source": [
    "clf = StackingClassifier(\n",
    "    estimators= [\n",
    "        ('lgb', lgbm.LGBMClassifier(**lgbm_params)),\n",
    "        #('nn', KerasClassifier(build_fn=build_fn, **keras_params)),\n",
    "        ('rgf', RGFClassifier(**rgf_params)),\n",
    "        ('et', ExtraTreesClassifier(**et_params)),\n",
    "        ('rf', RandomForestClassifier(**rf_params)),\n",
    "        ('lr', LogisticRegression()),\n",
    "        ('knn', KNeighborsClassifier())\n",
    "    ],\n",
    "    final_estimator=final_estimator\n",
    ")"
   ]
  },
  {
   "cell_type": "code",
   "execution_count": 509,
   "metadata": {},
   "outputs": [
    {
     "data": {
      "text/plain": [
       "StackingClassifier(cv=None,\n",
       "                   estimators=[('lgb',\n",
       "                                LGBMClassifier(application='binary',\n",
       "                                               boosting='dart',\n",
       "                                               boosting_type='gbdt',\n",
       "                                               class_weight=None,\n",
       "                                               colsample_bytree=1.0,\n",
       "                                               drop_rate=0.15,\n",
       "                                               feature_fraction=0.7,\n",
       "                                               importance_type='split',\n",
       "                                               learning_rate=0.05, max_depth=-1,\n",
       "                                               metric='binary_logloss',\n",
       "                                               min_child_samples=20,\n",
       "                                               min_child_weight=0.001,\n",
       "                                               min_data_in_leaf=20,\n",
       "                                               min_split_ga...\n",
       "                                                      final_estimator=LogisticRegression(C=1.0,\n",
       "                                                                                         class_weight=None,\n",
       "                                                                                         dual=False,\n",
       "                                                                                         fit_intercept=True,\n",
       "                                                                                         intercept_scaling=1,\n",
       "                                                                                         l1_ratio=None,\n",
       "                                                                                         max_iter=100,\n",
       "                                                                                         multi_class='auto',\n",
       "                                                                                         n_jobs=None,\n",
       "                                                                                         penalty='l2',\n",
       "                                                                                         random_state=None,\n",
       "                                                                                         solver='lbfgs',\n",
       "                                                                                         tol=0.0001,\n",
       "                                                                                         verbose=0,\n",
       "                                                                                         warm_start=False),\n",
       "                                                      n_jobs=None,\n",
       "                                                      passthrough=False,\n",
       "                                                      stack_method='auto',\n",
       "                                                      verbose=0),\n",
       "                   n_jobs=None, passthrough=False, stack_method='auto',\n",
       "                   verbose=0)"
      ]
     },
     "execution_count": 509,
     "metadata": {},
     "output_type": "execute_result"
    }
   ],
   "source": [
    "clf.fit(df['X_train'], df['y_train'])"
   ]
  },
  {
   "cell_type": "code",
   "execution_count": 510,
   "metadata": {},
   "outputs": [],
   "source": [
    "predictions = clf.predict(df['X_test'])"
   ]
  },
  {
   "cell_type": "code",
   "execution_count": 511,
   "metadata": {},
   "outputs": [
    {
     "data": {
      "text/plain": [
       "array([0, 0, 0, 0, 1, 0, 0, 0, 1, 0, 0, 0, 1, 0, 1, 1, 0, 0, 1, 0, 0, 1,\n",
       "       1, 0, 1, 0, 1, 0, 0, 0, 0, 0, 1, 1, 1, 0, 0, 0, 0, 0, 0, 0, 0, 1,\n",
       "       1, 0, 0, 0, 1, 1, 0, 0, 1, 1, 0, 0, 0, 0, 0, 1, 0, 0, 0, 1, 1, 1,\n",
       "       1, 0, 1, 1, 1, 0, 0, 0, 1, 1, 0, 1, 0, 1, 1, 0, 0, 0, 0, 0, 1, 1,\n",
       "       1, 1, 0, 0, 1, 0, 0, 0, 1, 0, 1, 0, 1, 0, 0, 0, 1, 0, 0, 0, 0, 0,\n",
       "       0, 1, 1, 1, 1, 0, 0, 1, 1, 1, 1, 0, 1, 0, 0, 0, 0, 1, 0, 0, 0, 0,\n",
       "       1, 0, 0, 0, 0, 0, 0, 0, 0, 1, 0, 0, 0, 0, 0, 0, 0, 0, 1, 0, 0, 1,\n",
       "       0, 0, 1, 1, 1, 1, 1, 1, 1, 0, 0, 0, 0, 0, 1, 0, 0, 0, 0, 0, 0, 1,\n",
       "       1, 0, 1, 1, 0, 0, 1, 0, 1, 0, 1, 0, 0, 0, 0, 0, 1, 0, 1, 0, 1, 1,\n",
       "       0, 0, 1, 1, 1, 1, 0, 0, 0, 0, 1, 0, 0, 0, 0, 1, 0, 0, 1, 0, 1, 0,\n",
       "       1, 0, 1, 0, 1, 1, 0, 1, 0, 0, 0, 1, 0, 0, 1, 0, 0, 0, 1, 1, 1, 1,\n",
       "       0, 0, 1, 0, 1, 0, 1, 1, 1, 0, 1, 0, 0, 0, 0, 0, 1, 0, 0, 0, 1, 1,\n",
       "       0, 0, 0, 0, 0, 0, 0, 0, 1, 1, 0, 1, 0, 0, 0, 0, 0, 1, 1, 1, 1, 0,\n",
       "       0, 0, 0, 0, 0, 0, 0, 1, 0, 0, 1, 0, 0, 0, 0, 0, 0, 0, 1, 1, 0, 1,\n",
       "       0, 0, 0, 0, 0, 0, 1, 1, 0, 0, 0, 0, 0, 0, 0, 1, 1, 0, 1, 0, 0, 0,\n",
       "       1, 0, 0, 1, 0, 1, 0, 0, 0, 1, 0, 0, 0, 1, 1, 1, 0, 0, 0, 1, 1, 0,\n",
       "       0, 0, 1, 0, 1, 0, 0, 0, 0, 1, 1, 0, 1, 0, 0, 0, 1, 0, 0, 1, 0, 0,\n",
       "       1, 1, 0, 0, 0, 0, 0, 0, 0, 1, 0, 1, 0, 0, 0, 0, 0, 1, 1, 0, 0, 1,\n",
       "       0, 1, 0, 0, 1, 0, 1, 0, 0, 0, 0, 0, 1, 1, 1, 1, 0, 0, 1, 0, 0, 1])"
      ]
     },
     "execution_count": 511,
     "metadata": {},
     "output_type": "execute_result"
    }
   ],
   "source": [
    "predictions"
   ]
  },
  {
   "cell_type": "code",
   "execution_count": 512,
   "metadata": {},
   "outputs": [],
   "source": [
    "dataframe = pandas.DataFrame({'PassengerId': pandas.read_csv('input/test.csv')['PassengerId'], 'Survived': numpy.round(predictions).astype(int)})\n",
    "dataframe.to_csv('submission/sklearn_multiple_stacking_model.csv', index=False)"
   ]
  },
  {
   "cell_type": "code",
   "execution_count": null,
   "metadata": {},
   "outputs": [],
   "source": []
  },
  {
   "cell_type": "code",
   "execution_count": null,
   "metadata": {},
   "outputs": [],
   "source": []
  },
  {
   "cell_type": "code",
   "execution_count": null,
   "metadata": {},
   "outputs": [],
   "source": []
  }
 ],
 "metadata": {
  "kernelspec": {
   "display_name": "Python 3",
   "language": "python",
   "name": "python3"
  },
  "language_info": {
   "codemirror_mode": {
    "name": "ipython",
    "version": 3
   },
   "file_extension": ".py",
   "mimetype": "text/x-python",
   "name": "python",
   "nbconvert_exporter": "python",
   "pygments_lexer": "ipython3",
   "version": "3.7.5"
  }
 },
 "nbformat": 4,
 "nbformat_minor": 2
}